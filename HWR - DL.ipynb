{
 "cells": [
  {
   "cell_type": "code",
   "execution_count": 1,
   "metadata": {},
   "outputs": [
    {
     "name": "stdout",
     "output_type": "stream",
     "text": [
      "2.13.0\n",
      "2.13.1\n",
      "1.24.3\n"
     ]
    }
   ],
   "source": [
    "import tensorflow as tf\n",
    "import keras as k\n",
    "import os\n",
    "\n",
    "import numpy as np\n",
    "from keras.preprocessing import image\n",
    "\n",
    "from keras.models import Sequential\n",
    "\n",
    "from keras.layers import Dense, Activation, Dropout, Conv2D, MaxPooling2D,Flatten\n",
    "\n",
    "from keras.preprocessing.image import ImageDataGenerator\n",
    "\n",
    "print(tf.__version__)\n",
    "print(k.__version__)\n",
    "print(np.__version__)"
   ]
  },
  {
   "cell_type": "code",
   "execution_count": 2,
   "metadata": {},
   "outputs": [],
   "source": [
    "# import tensorflow as tf\n",
    "# print(tf.__version__)\n"
   ]
  },
  {
   "cell_type": "code",
   "execution_count": 3,
   "metadata": {},
   "outputs": [],
   "source": [
    "model = Sequential()\n",
    "model.add(Conv2D(32, (2, 2),input_shape = (64,64,3)))\n",
    "model.add(Activation('relu'))\n",
    "model.add(MaxPooling2D(pool_size =(2, 2)))\n",
    "\n",
    "model.add(Conv2D(32, (2, 2),padding='same'))\n",
    "model.add(Activation('relu'))\n",
    "model.add(MaxPooling2D(pool_size =(2, 2)))\n",
    "\n",
    "model.add(Conv2D(32, (2, 2),padding='valid'))\n",
    "model.add(Activation('relu'))\n",
    "model.add(MaxPooling2D(pool_size =(2, 2),strides=(1,1)))\n",
    "\n",
    "model.add(Flatten())\n",
    "model.add(Dense(64))\n",
    "model.add(Activation('relu'))\n",
    "model.add(Dropout(0.1))\n",
    "\n",
    "model.add(Dense(26))\n",
    "model.add(Activation('softmax'))\n",
    "\n",
    "model.compile(loss ='categorical_crossentropy',optimizer ='adam',metrics =['accuracy'])"
   ]
  },
  {
   "cell_type": "code",
   "execution_count": 4,
   "metadata": {},
   "outputs": [
    {
     "name": "stdout",
     "output_type": "stream",
     "text": [
      "Model: \"sequential\"\n",
      "_________________________________________________________________\n",
      " Layer (type)                Output Shape              Param #   \n",
      "=================================================================\n",
      " conv2d (Conv2D)             (None, 63, 63, 32)        416       \n",
      "                                                                 \n",
      " activation (Activation)     (None, 63, 63, 32)        0         \n",
      "                                                                 \n",
      " max_pooling2d (MaxPooling2  (None, 31, 31, 32)        0         \n",
      " D)                                                              \n",
      "                                                                 \n",
      " conv2d_1 (Conv2D)           (None, 31, 31, 32)        4128      \n",
      "                                                                 \n",
      " activation_1 (Activation)   (None, 31, 31, 32)        0         \n",
      "                                                                 \n",
      " max_pooling2d_1 (MaxPoolin  (None, 15, 15, 32)        0         \n",
      " g2D)                                                            \n",
      "                                                                 \n",
      " conv2d_2 (Conv2D)           (None, 14, 14, 32)        4128      \n",
      "                                                                 \n",
      " activation_2 (Activation)   (None, 14, 14, 32)        0         \n",
      "                                                                 \n",
      " max_pooling2d_2 (MaxPoolin  (None, 13, 13, 32)        0         \n",
      " g2D)                                                            \n",
      "                                                                 \n",
      " flatten (Flatten)           (None, 5408)              0         \n",
      "                                                                 \n",
      " dense (Dense)               (None, 64)                346176    \n",
      "                                                                 \n",
      " activation_3 (Activation)   (None, 64)                0         \n",
      "                                                                 \n",
      " dropout (Dropout)           (None, 64)                0         \n",
      "                                                                 \n",
      " dense_1 (Dense)             (None, 26)                1690      \n",
      "                                                                 \n",
      " activation_4 (Activation)   (None, 26)                0         \n",
      "                                                                 \n",
      "=================================================================\n",
      "Total params: 356538 (1.36 MB)\n",
      "Trainable params: 356538 (1.36 MB)\n",
      "Non-trainable params: 0 (0.00 Byte)\n",
      "_________________________________________________________________\n"
     ]
    }
   ],
   "source": [
    "model.summary()"
   ]
  },
  {
   "cell_type": "code",
   "execution_count": 5,
   "metadata": {},
   "outputs": [
    {
     "name": "stdout",
     "output_type": "stream",
     "text": [
      "Found 2340 images belonging to 26 classes.\n",
      "Found 520 images belonging to 26 classes.\n",
      "Epoch 1/10\n",
      "20/20 [==============================] - 102s 5s/step - loss: 3.2921 - accuracy: 0.0453 - val_loss: 3.2576 - val_accuracy: 0.0312\n",
      "Epoch 2/10\n",
      "20/20 [==============================] - 52s 3s/step - loss: 3.2502 - accuracy: 0.0516 - val_loss: 3.2361 - val_accuracy: 0.0500\n",
      "Epoch 3/10\n",
      "20/20 [==============================] - 49s 2s/step - loss: 3.1941 - accuracy: 0.0938 - val_loss: 3.1509 - val_accuracy: 0.0844\n",
      "Epoch 4/10\n",
      "20/20 [==============================] - 45s 2s/step - loss: 3.0550 - accuracy: 0.1209 - val_loss: 2.9411 - val_accuracy: 0.1937\n",
      "Epoch 5/10\n",
      "20/20 [==============================] - 44s 2s/step - loss: 2.7352 - accuracy: 0.2031 - val_loss: 2.7289 - val_accuracy: 0.2406\n",
      "Epoch 6/10\n",
      "20/20 [==============================] - 41s 2s/step - loss: 2.3615 - accuracy: 0.3125 - val_loss: 2.3632 - val_accuracy: 0.3531\n",
      "Epoch 7/10\n",
      "20/20 [==============================] - 43s 2s/step - loss: 1.9959 - accuracy: 0.4156 - val_loss: 2.0710 - val_accuracy: 0.4031\n",
      "Epoch 8/10\n",
      "20/20 [==============================] - 43s 2s/step - loss: 1.7558 - accuracy: 0.4902 - val_loss: 2.0549 - val_accuracy: 0.4313\n",
      "Epoch 9/10\n",
      "20/20 [==============================] - 40s 2s/step - loss: 1.5954 - accuracy: 0.5359 - val_loss: 1.9568 - val_accuracy: 0.4688\n",
      "Epoch 10/10\n",
      "20/20 [==============================] - 34s 2s/step - loss: 1.5036 - accuracy: 0.5828 - val_loss: 1.7656 - val_accuracy: 0.5094\n"
     ]
    }
   ],
   "source": [
    "train_datagen = ImageDataGenerator(rescale = 1./255)\n",
    "test_datagen = ImageDataGenerator(rescale = 1./255)\n",
    "\n",
    "\n",
    "training_set = train_datagen.flow_from_directory(\"C:/Users/HP/Downloads/Handwritten Recoginition/train\",\n",
    "                                                 target_size =(64, 64),\n",
    "                                                 batch_size = 32,\n",
    "                                                 class_mode = \"categorical\")\n",
    "\n",
    "test_set = test_datagen.flow_from_directory(\"C:/Users/HP/Downloads/Handwritten Recoginition/test\",\n",
    "                                            target_size =(64,64),\n",
    "                                            batch_size = 32,\n",
    "                                            class_mode = \"categorical\") \n",
    "\n",
    "#model fit\n",
    "model_sum = model.fit(training_set,steps_per_epoch =20, \n",
    "                         epochs = 10,validation_data = test_set,\n",
    "                                validation_steps = 10)\n"
   ]
  },
  {
   "cell_type": "code",
   "execution_count": 6,
   "metadata": {},
   "outputs": [
    {
     "data": {
      "text/plain": [
       "{'A': 0,\n",
       " 'B': 1,\n",
       " 'C': 2,\n",
       " 'D': 3,\n",
       " 'E': 4,\n",
       " 'F': 5,\n",
       " 'G': 6,\n",
       " 'H': 7,\n",
       " 'I': 8,\n",
       " 'J': 9,\n",
       " 'K': 10,\n",
       " 'L': 11,\n",
       " 'M': 12,\n",
       " 'N': 13,\n",
       " 'O': 14,\n",
       " 'P': 15,\n",
       " 'Q': 16,\n",
       " 'R': 17,\n",
       " 'S': 18,\n",
       " 'T': 19,\n",
       " 'U': 20,\n",
       " 'V': 21,\n",
       " 'W': 22,\n",
       " 'X': 23,\n",
       " 'Y': 24,\n",
       " 'Z': 25}"
      ]
     },
     "execution_count": 6,
     "metadata": {},
     "output_type": "execute_result"
    }
   ],
   "source": [
    "training_set.class_indices"
   ]
  },
  {
   "cell_type": "code",
   "execution_count": 7,
   "metadata": {},
   "outputs": [
    {
     "name": "stdout",
     "output_type": "stream",
     "text": [
      "1/1 [==============================] - 1s 645ms/step\n"
     ]
    }
   ],
   "source": [
    "test_image = image.load_img(\"C:/Users/HP/Downloads/Handwritten Recoginition/test/K/K.png\",target_size =(64,64))    \n",
    "test_image1 = image.img_to_array(test_image)\n",
    "test_image1 = np.expand_dims(test_image1, axis = 0)\n",
    "result = model.predict(test_image1)"
   ]
  },
  {
   "cell_type": "code",
   "execution_count": 8,
   "metadata": {},
   "outputs": [
    {
     "name": "stdout",
     "output_type": "stream",
     "text": [
      "The image is recognised to have the alphabet: K\n"
     ]
    }
   ],
   "source": [
    "for i in range(0,26):\n",
    "    l = \"a,b,c,d,e,f,g,h,i,j,k,l,m,n,o,p,q,r,s,t,u,v,w,x,y,z\"\n",
    "    if result[0][i] == 1:\n",
    "        test_image.show()\n",
    "        print(\"The image is recognised to have the alphabet: \" + l.replace(\",\",\"\").upper()[i])"
   ]
  }
 ],
 "metadata": {
  "kernelspec": {
   "display_name": "Python 3",
   "language": "python",
   "name": "python3"
  },
  "language_info": {
   "codemirror_mode": {
    "name": "ipython",
    "version": 3
   },
   "file_extension": ".py",
   "mimetype": "text/x-python",
   "name": "python",
   "nbconvert_exporter": "python",
   "pygments_lexer": "ipython3",
   "version": "3.8.5"
  }
 },
 "nbformat": 4,
 "nbformat_minor": 4
}
